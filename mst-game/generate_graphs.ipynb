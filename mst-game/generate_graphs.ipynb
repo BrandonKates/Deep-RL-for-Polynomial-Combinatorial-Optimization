{
 "cells": [
  {
   "cell_type": "code",
   "execution_count": 1,
   "metadata": {},
   "outputs": [],
   "source": [
    "%load_ext autoreload\n",
    "%autoreload 2\n",
    "import pickle"
   ]
  },
  {
   "cell_type": "code",
   "execution_count": 3,
   "metadata": {},
   "outputs": [],
   "source": [
    "import tensorflow as tf\n",
    "import tensorboard"
   ]
  },
  {
   "cell_type": "code",
   "execution_count": 4,
   "metadata": {
    "collapsed": true,
    "jupyter": {
     "outputs_hidden": true
    }
   },
   "outputs": [
    {
     "ename": "ValueError",
     "evalue": "No variables to save",
     "output_type": "error",
     "traceback": [
      "\u001b[0;31m---------------------------------------------------------------------------\u001b[0m",
      "\u001b[0;31mValueError\u001b[0m                                Traceback (most recent call last)",
      "\u001b[0;32m<ipython-input-4-8a6eb7017215>\u001b[0m in \u001b[0;36m<module>\u001b[0;34m()\u001b[0m\n\u001b[1;32m      2\u001b[0m \u001b[0;34m\u001b[0m\u001b[0m\n\u001b[1;32m      3\u001b[0m \u001b[0;31m# Add ops to save and restore all the variables.\u001b[0m\u001b[0;34m\u001b[0m\u001b[0;34m\u001b[0m\u001b[0;34m\u001b[0m\u001b[0m\n\u001b[0;32m----> 4\u001b[0;31m \u001b[0msaver\u001b[0m \u001b[0;34m=\u001b[0m \u001b[0mtf\u001b[0m\u001b[0;34m.\u001b[0m\u001b[0mtrain\u001b[0m\u001b[0;34m.\u001b[0m\u001b[0mSaver\u001b[0m\u001b[0;34m(\u001b[0m\u001b[0;34m)\u001b[0m\u001b[0;34m\u001b[0m\u001b[0;34m\u001b[0m\u001b[0m\n\u001b[0m\u001b[1;32m      5\u001b[0m \u001b[0;34m\u001b[0m\u001b[0m\n\u001b[1;32m      6\u001b[0m \u001b[0;31m# Later, launch the model, use the saver to restore variables from disk, and\u001b[0m\u001b[0;34m\u001b[0m\u001b[0;34m\u001b[0m\u001b[0;34m\u001b[0m\u001b[0m\n",
      "\u001b[0;32m/opt/anaconda3/lib/python3.7/site-packages/tensorflow/python/training/saver.py\u001b[0m in \u001b[0;36m__init__\u001b[0;34m(self, var_list, reshape, sharded, max_to_keep, keep_checkpoint_every_n_hours, name, restore_sequentially, saver_def, builder, defer_build, allow_empty, write_version, pad_step_number, save_relative_paths, filename)\u001b[0m\n\u001b[1;32m    823\u001b[0m           time.time() + self._keep_checkpoint_every_n_hours * 3600)\n\u001b[1;32m    824\u001b[0m     \u001b[0;32melif\u001b[0m \u001b[0;32mnot\u001b[0m \u001b[0mdefer_build\u001b[0m\u001b[0;34m:\u001b[0m\u001b[0;34m\u001b[0m\u001b[0;34m\u001b[0m\u001b[0m\n\u001b[0;32m--> 825\u001b[0;31m       \u001b[0mself\u001b[0m\u001b[0;34m.\u001b[0m\u001b[0mbuild\u001b[0m\u001b[0;34m(\u001b[0m\u001b[0;34m)\u001b[0m\u001b[0;34m\u001b[0m\u001b[0;34m\u001b[0m\u001b[0m\n\u001b[0m\u001b[1;32m    826\u001b[0m     \u001b[0;32mif\u001b[0m \u001b[0mself\u001b[0m\u001b[0;34m.\u001b[0m\u001b[0msaver_def\u001b[0m\u001b[0;34m:\u001b[0m\u001b[0;34m\u001b[0m\u001b[0;34m\u001b[0m\u001b[0m\n\u001b[1;32m    827\u001b[0m       \u001b[0mself\u001b[0m\u001b[0;34m.\u001b[0m\u001b[0m_check_saver_def\u001b[0m\u001b[0;34m(\u001b[0m\u001b[0;34m)\u001b[0m\u001b[0;34m\u001b[0m\u001b[0;34m\u001b[0m\u001b[0m\n",
      "\u001b[0;32m/opt/anaconda3/lib/python3.7/site-packages/tensorflow/python/training/saver.py\u001b[0m in \u001b[0;36mbuild\u001b[0;34m(self)\u001b[0m\n\u001b[1;32m    835\u001b[0m     \u001b[0;32mif\u001b[0m \u001b[0mcontext\u001b[0m\u001b[0;34m.\u001b[0m\u001b[0mexecuting_eagerly\u001b[0m\u001b[0;34m(\u001b[0m\u001b[0;34m)\u001b[0m\u001b[0;34m:\u001b[0m\u001b[0;34m\u001b[0m\u001b[0;34m\u001b[0m\u001b[0m\n\u001b[1;32m    836\u001b[0m       \u001b[0;32mraise\u001b[0m \u001b[0mRuntimeError\u001b[0m\u001b[0;34m(\u001b[0m\u001b[0;34m\"Use save/restore instead of build in eager mode.\"\u001b[0m\u001b[0;34m)\u001b[0m\u001b[0;34m\u001b[0m\u001b[0;34m\u001b[0m\u001b[0m\n\u001b[0;32m--> 837\u001b[0;31m     \u001b[0mself\u001b[0m\u001b[0;34m.\u001b[0m\u001b[0m_build\u001b[0m\u001b[0;34m(\u001b[0m\u001b[0mself\u001b[0m\u001b[0;34m.\u001b[0m\u001b[0m_filename\u001b[0m\u001b[0;34m,\u001b[0m \u001b[0mbuild_save\u001b[0m\u001b[0;34m=\u001b[0m\u001b[0;32mTrue\u001b[0m\u001b[0;34m,\u001b[0m \u001b[0mbuild_restore\u001b[0m\u001b[0;34m=\u001b[0m\u001b[0;32mTrue\u001b[0m\u001b[0;34m)\u001b[0m\u001b[0;34m\u001b[0m\u001b[0;34m\u001b[0m\u001b[0m\n\u001b[0m\u001b[1;32m    838\u001b[0m \u001b[0;34m\u001b[0m\u001b[0m\n\u001b[1;32m    839\u001b[0m   \u001b[0;32mdef\u001b[0m \u001b[0m_build_eager\u001b[0m\u001b[0;34m(\u001b[0m\u001b[0mself\u001b[0m\u001b[0;34m,\u001b[0m \u001b[0mcheckpoint_path\u001b[0m\u001b[0;34m,\u001b[0m \u001b[0mbuild_save\u001b[0m\u001b[0;34m,\u001b[0m \u001b[0mbuild_restore\u001b[0m\u001b[0;34m)\u001b[0m\u001b[0;34m:\u001b[0m\u001b[0;34m\u001b[0m\u001b[0;34m\u001b[0m\u001b[0m\n",
      "\u001b[0;32m/opt/anaconda3/lib/python3.7/site-packages/tensorflow/python/training/saver.py\u001b[0m in \u001b[0;36m_build\u001b[0;34m(self, checkpoint_path, build_save, build_restore)\u001b[0m\n\u001b[1;32m    860\u001b[0m           \u001b[0;32mreturn\u001b[0m\u001b[0;34m\u001b[0m\u001b[0;34m\u001b[0m\u001b[0m\n\u001b[1;32m    861\u001b[0m         \u001b[0;32melse\u001b[0m\u001b[0;34m:\u001b[0m\u001b[0;34m\u001b[0m\u001b[0;34m\u001b[0m\u001b[0m\n\u001b[0;32m--> 862\u001b[0;31m           \u001b[0;32mraise\u001b[0m \u001b[0mValueError\u001b[0m\u001b[0;34m(\u001b[0m\u001b[0;34m\"No variables to save\"\u001b[0m\u001b[0;34m)\u001b[0m\u001b[0;34m\u001b[0m\u001b[0;34m\u001b[0m\u001b[0m\n\u001b[0m\u001b[1;32m    863\u001b[0m       \u001b[0mself\u001b[0m\u001b[0;34m.\u001b[0m\u001b[0m_is_empty\u001b[0m \u001b[0;34m=\u001b[0m \u001b[0;32mFalse\u001b[0m\u001b[0;34m\u001b[0m\u001b[0;34m\u001b[0m\u001b[0m\n\u001b[1;32m    864\u001b[0m \u001b[0;34m\u001b[0m\u001b[0m\n",
      "\u001b[0;31mValueError\u001b[0m: No variables to save"
     ]
    }
   ],
   "source": [
    "tf.reset_default_graph()\n",
    "\n",
    "# Add ops to save and restore all the variables.\n",
    "saver = tf.train.Saver()\n",
    "\n",
    "# Later, launch the model, use the saver to restore variables from disk, and\n",
    "# do some work with the model.\n",
    "with tf.Session() as sess:\n",
    "  # Restore variables from disk.\n",
    "  saver.restore(sess, '/tmp/dqn_test-219999.meta')\n",
    "  print(\"Model restored.\")\n",
    "  # Check the values of the variables\n",
    "  print(\"v1 : %s\" % v1.eval())\n",
    "  print(\"v2 : %s\" % v2.eval())"
   ]
  },
  {
   "cell_type": "code",
   "execution_count": 5,
   "metadata": {
    "collapsed": true,
    "jupyter": {
     "outputs_hidden": true
    }
   },
   "outputs": [
    {
     "ename": "OSError",
     "evalue": "File /tmp/dqn_test-.meta does not exist.",
     "output_type": "error",
     "traceback": [
      "\u001b[0;31m---------------------------------------------------------------------------\u001b[0m",
      "\u001b[0;31mOSError\u001b[0m                                   Traceback (most recent call last)",
      "\u001b[0;32m<ipython-input-5-6d2c723ffd1c>\u001b[0m in \u001b[0;36m<module>\u001b[0;34m()\u001b[0m\n\u001b[1;32m      1\u001b[0m \u001b[0;32mwith\u001b[0m \u001b[0mtf\u001b[0m\u001b[0;34m.\u001b[0m\u001b[0mSession\u001b[0m\u001b[0;34m(\u001b[0m\u001b[0;34m)\u001b[0m \u001b[0;32mas\u001b[0m \u001b[0msess\u001b[0m\u001b[0;34m:\u001b[0m\u001b[0;34m\u001b[0m\u001b[0;34m\u001b[0m\u001b[0m\n\u001b[0;32m----> 2\u001b[0;31m     \u001b[0msaver\u001b[0m \u001b[0;34m=\u001b[0m \u001b[0mtf\u001b[0m\u001b[0;34m.\u001b[0m\u001b[0mtrain\u001b[0m\u001b[0;34m.\u001b[0m\u001b[0mimport_meta_graph\u001b[0m\u001b[0;34m(\u001b[0m\u001b[0;34m'/tmp/dqn_test-.meta'\u001b[0m\u001b[0;34m)\u001b[0m\u001b[0;34m\u001b[0m\u001b[0;34m\u001b[0m\u001b[0m\n\u001b[0m\u001b[1;32m      3\u001b[0m     \u001b[0msaver\u001b[0m\u001b[0;34m.\u001b[0m\u001b[0mrestore\u001b[0m\u001b[0;34m(\u001b[0m\u001b[0msess\u001b[0m\u001b[0;34m,\u001b[0m\u001b[0mtf\u001b[0m\u001b[0;34m.\u001b[0m\u001b[0mtrain\u001b[0m\u001b[0;34m.\u001b[0m\u001b[0mlatest_checkpoint\u001b[0m\u001b[0;34m(\u001b[0m\u001b[0;34m'/tmp/'\u001b[0m\u001b[0;34m)\u001b[0m\u001b[0;34m)\u001b[0m\u001b[0;34m\u001b[0m\u001b[0;34m\u001b[0m\u001b[0m\n\u001b[1;32m      4\u001b[0m     \u001b[0mgraph\u001b[0m \u001b[0;34m=\u001b[0m \u001b[0mtf\u001b[0m\u001b[0;34m.\u001b[0m\u001b[0mget_default_graph\u001b[0m\u001b[0;34m(\u001b[0m\u001b[0;34m)\u001b[0m\u001b[0;34m\u001b[0m\u001b[0;34m\u001b[0m\u001b[0m\n\u001b[1;32m      5\u001b[0m \u001b[0;31m##Model has been restored. Above statement will print the saved value of w1.\u001b[0m\u001b[0;34m\u001b[0m\u001b[0;34m\u001b[0m\u001b[0;34m\u001b[0m\u001b[0m\n",
      "\u001b[0;32m/opt/anaconda3/lib/python3.7/site-packages/tensorflow/python/training/saver.py\u001b[0m in \u001b[0;36mimport_meta_graph\u001b[0;34m(meta_graph_or_file, clear_devices, import_scope, **kwargs)\u001b[0m\n\u001b[1;32m   1447\u001b[0m   return _import_meta_graph_with_return_elements(meta_graph_or_file,\n\u001b[1;32m   1448\u001b[0m                                                  \u001b[0mclear_devices\u001b[0m\u001b[0;34m,\u001b[0m \u001b[0mimport_scope\u001b[0m\u001b[0;34m,\u001b[0m\u001b[0;34m\u001b[0m\u001b[0;34m\u001b[0m\u001b[0m\n\u001b[0;32m-> 1449\u001b[0;31m                                                  **kwargs)[0]\n\u001b[0m\u001b[1;32m   1450\u001b[0m \u001b[0;34m\u001b[0m\u001b[0m\n\u001b[1;32m   1451\u001b[0m \u001b[0;34m\u001b[0m\u001b[0m\n",
      "\u001b[0;32m/opt/anaconda3/lib/python3.7/site-packages/tensorflow/python/training/saver.py\u001b[0m in \u001b[0;36m_import_meta_graph_with_return_elements\u001b[0;34m(meta_graph_or_file, clear_devices, import_scope, return_elements, **kwargs)\u001b[0m\n\u001b[1;32m   1461\u001b[0m                        \"execution is enabled.\")\n\u001b[1;32m   1462\u001b[0m   \u001b[0;32mif\u001b[0m \u001b[0;32mnot\u001b[0m \u001b[0misinstance\u001b[0m\u001b[0;34m(\u001b[0m\u001b[0mmeta_graph_or_file\u001b[0m\u001b[0;34m,\u001b[0m \u001b[0mmeta_graph_pb2\u001b[0m\u001b[0;34m.\u001b[0m\u001b[0mMetaGraphDef\u001b[0m\u001b[0;34m)\u001b[0m\u001b[0;34m:\u001b[0m\u001b[0;34m\u001b[0m\u001b[0;34m\u001b[0m\u001b[0m\n\u001b[0;32m-> 1463\u001b[0;31m     \u001b[0mmeta_graph_def\u001b[0m \u001b[0;34m=\u001b[0m \u001b[0mmeta_graph\u001b[0m\u001b[0;34m.\u001b[0m\u001b[0mread_meta_graph_file\u001b[0m\u001b[0;34m(\u001b[0m\u001b[0mmeta_graph_or_file\u001b[0m\u001b[0;34m)\u001b[0m\u001b[0;34m\u001b[0m\u001b[0;34m\u001b[0m\u001b[0m\n\u001b[0m\u001b[1;32m   1464\u001b[0m   \u001b[0;32melse\u001b[0m\u001b[0;34m:\u001b[0m\u001b[0;34m\u001b[0m\u001b[0;34m\u001b[0m\u001b[0m\n\u001b[1;32m   1465\u001b[0m     \u001b[0mmeta_graph_def\u001b[0m \u001b[0;34m=\u001b[0m \u001b[0mmeta_graph_or_file\u001b[0m\u001b[0;34m\u001b[0m\u001b[0;34m\u001b[0m\u001b[0m\n",
      "\u001b[0;32m/opt/anaconda3/lib/python3.7/site-packages/tensorflow/python/framework/meta_graph.py\u001b[0m in \u001b[0;36mread_meta_graph_file\u001b[0;34m(filename)\u001b[0m\n\u001b[1;32m    682\u001b[0m   \u001b[0mmeta_graph_def\u001b[0m \u001b[0;34m=\u001b[0m \u001b[0mmeta_graph_pb2\u001b[0m\u001b[0;34m.\u001b[0m\u001b[0mMetaGraphDef\u001b[0m\u001b[0;34m(\u001b[0m\u001b[0;34m)\u001b[0m\u001b[0;34m\u001b[0m\u001b[0;34m\u001b[0m\u001b[0m\n\u001b[1;32m    683\u001b[0m   \u001b[0;32mif\u001b[0m \u001b[0;32mnot\u001b[0m \u001b[0mfile_io\u001b[0m\u001b[0;34m.\u001b[0m\u001b[0mfile_exists\u001b[0m\u001b[0;34m(\u001b[0m\u001b[0mfilename\u001b[0m\u001b[0;34m)\u001b[0m\u001b[0;34m:\u001b[0m\u001b[0;34m\u001b[0m\u001b[0;34m\u001b[0m\u001b[0m\n\u001b[0;32m--> 684\u001b[0;31m     \u001b[0;32mraise\u001b[0m \u001b[0mIOError\u001b[0m\u001b[0;34m(\u001b[0m\u001b[0;34m\"File %s does not exist.\"\u001b[0m \u001b[0;34m%\u001b[0m \u001b[0mfilename\u001b[0m\u001b[0;34m)\u001b[0m\u001b[0;34m\u001b[0m\u001b[0;34m\u001b[0m\u001b[0m\n\u001b[0m\u001b[1;32m    685\u001b[0m   \u001b[0;31m# First try to read it as a binary file.\u001b[0m\u001b[0;34m\u001b[0m\u001b[0;34m\u001b[0m\u001b[0;34m\u001b[0m\u001b[0m\n\u001b[1;32m    686\u001b[0m   \u001b[0mfile_content\u001b[0m \u001b[0;34m=\u001b[0m \u001b[0mfile_io\u001b[0m\u001b[0;34m.\u001b[0m\u001b[0mFileIO\u001b[0m\u001b[0;34m(\u001b[0m\u001b[0mfilename\u001b[0m\u001b[0;34m,\u001b[0m \u001b[0;34m\"rb\"\u001b[0m\u001b[0;34m)\u001b[0m\u001b[0;34m.\u001b[0m\u001b[0mread\u001b[0m\u001b[0;34m(\u001b[0m\u001b[0;34m)\u001b[0m\u001b[0;34m\u001b[0m\u001b[0;34m\u001b[0m\u001b[0m\n",
      "\u001b[0;31mOSError\u001b[0m: File /tmp/dqn_test-.meta does not exist."
     ]
    }
   ],
   "source": [
    "with tf.Session() as sess:    \n",
    "    saver = tf.train.import_meta_graph('/tmp/dqn_test-.meta')\n",
    "    saver.restore(sess,tf.train.latest_checkpoint('/tmp/'))\n",
    "    graph = tf.get_default_graph()\n",
    "##Model has been restored. Above statement will print the saved value of w1."
   ]
  },
  {
   "cell_type": "code",
   "execution_count": 4,
   "metadata": {},
   "outputs": [],
   "source": [
    "def load_game_data(train_fname, test_fname):\n",
    "    with open(train_fname, 'rb') as train_handle:\n",
    "        train = pickle.load(train_handle)\n",
    "    with open(test_fname, 'rb') as test_handle:\n",
    "        test = pickle.load(test_handle)\n",
    "    return train, test\n",
    "num_nodes = 20\n",
    "train_fname = \"MST\" + \"_\" + str(num_nodes) + '_train.pickle'\n",
    "test_fname = \"MST\" + \"_\" + str(num_nodes) + '_test.pickle'\n",
    "train_data, test_data = load_game_data(train_fname, test_fname)"
   ]
  },
  {
   "cell_type": "code",
   "execution_count": 9,
   "metadata": {},
   "outputs": [
    {
     "name": "stdout",
     "output_type": "stream",
     "text": [
      "{'filename': './data/mst10_100000_random_geometric_graph.txt',\n",
      " 'get_spanning_trees': True,\n",
      " 'graph_type': 'random_geometric_graph',\n",
      " 'num_graphs': 100000,\n",
      " 'num_nodes': 10,\n",
      " 'prob': 0.5,\n",
      " 'use_random_weights': False,\n",
      " 'weight_fn': <built-in method random of numpy.random.mtrand.RandomState object at 0x7f127009fe20>,\n",
      " 'write_edges': False}\n",
      "{'filename': './data/mst10_10000_random_geometric_graph.txt',\n",
      " 'get_spanning_trees': True,\n",
      " 'graph_type': 'random_geometric_graph',\n",
      " 'num_graphs': 10000,\n",
      " 'num_nodes': 10,\n",
      " 'prob': 0.5,\n",
      " 'use_random_weights': False,\n",
      " 'weight_fn': <built-in method random of numpy.random.mtrand.RandomState object at 0x7f127009fe20>,\n",
      " 'write_edges': False}\n"
     ]
    }
   ],
   "source": [
    "import generate_graphs as graphgen\n",
    "#graphgen.save_game_data(10000, 10, \"MST_10_test.pickle\")\n",
    "train_10 = graphgen.generate_game_data(100000, 10, save=True, fname=\"MST_10_train.pickle\")\n",
    "test_10  = graphgen.generate_game_data(10000, 10, save=True, fname=\"MST_10_test.pickle\")"
   ]
  },
  {
   "cell_type": "code",
   "execution_count": 11,
   "metadata": {},
   "outputs": [
    {
     "data": {
      "text/plain": [
       "'MST_5_train.pickle'"
      ]
     },
     "execution_count": 11,
     "metadata": {},
     "output_type": "execute_result"
    }
   ],
   "source": [
    "num_nodes=5\n",
    "\"MST_\"+str(num_nodes)+\"_train.pickle\""
   ]
  },
  {
   "cell_type": "code",
   "execution_count": 54,
   "metadata": {},
   "outputs": [
    {
     "name": "stdout",
     "output_type": "stream",
     "text": [
      "{'filename': './data/mst5_100000_random_geometric_graph.txt',\n",
      " 'get_spanning_trees': True,\n",
      " 'graph_type': 'random_geometric_graph',\n",
      " 'num_graphs': 100000,\n",
      " 'num_nodes': 5,\n",
      " 'prob': 0.5,\n",
      " 'use_random_weights': False,\n",
      " 'weight_fn': <built-in method random of numpy.random.mtrand.RandomState object at 0x7f127009fe20>,\n",
      " 'write_edges': False}\n",
      "{'filename': './data/mst5_10000_random_geometric_graph.txt',\n",
      " 'get_spanning_trees': True,\n",
      " 'graph_type': 'random_geometric_graph',\n",
      " 'num_graphs': 10000,\n",
      " 'num_nodes': 5,\n",
      " 'prob': 0.5,\n",
      " 'use_random_weights': False,\n",
      " 'weight_fn': <built-in method random of numpy.random.mtrand.RandomState object at 0x7f127009fe20>,\n",
      " 'write_edges': False}\n",
      "{'filename': './data/mst4_100000_random_geometric_graph.txt',\n",
      " 'get_spanning_trees': True,\n",
      " 'graph_type': 'random_geometric_graph',\n",
      " 'num_graphs': 100000,\n",
      " 'num_nodes': 4,\n",
      " 'prob': 0.5,\n",
      " 'use_random_weights': False,\n",
      " 'weight_fn': <built-in method random of numpy.random.mtrand.RandomState object at 0x7f127009fe20>,\n",
      " 'write_edges': False}\n",
      "{'filename': './data/mst4_10000_random_geometric_graph.txt',\n",
      " 'get_spanning_trees': True,\n",
      " 'graph_type': 'random_geometric_graph',\n",
      " 'num_graphs': 10000,\n",
      " 'num_nodes': 4,\n",
      " 'prob': 0.5,\n",
      " 'use_random_weights': False,\n",
      " 'weight_fn': <built-in method random of numpy.random.mtrand.RandomState object at 0x7f127009fe20>,\n",
      " 'write_edges': False}\n"
     ]
    }
   ],
   "source": [
    "def generate_graph_of_size(num_nodes):\n",
    "    _ = graphgen.generate_game_data(100000, num_nodes, save=True, fname=\"MST_\"+str(num_nodes)+\"_train.pickle\")\n",
    "    _ = graphgen.generate_game_data(10000, num_nodes, save=True, fname=\"MST_\"+str(num_nodes)+\"_test.pickle\")\n",
    "    \n",
    "generate_graph_of_size(5)\n",
    "generate_graph_of_size(4)"
   ]
  },
  {
   "cell_type": "code",
   "execution_count": 12,
   "metadata": {},
   "outputs": [
    {
     "name": "stdout",
     "output_type": "stream",
     "text": [
      "{'filename': './data/mst50_1000_random_geometric_graph.txt',\n",
      " 'get_spanning_trees': True,\n",
      " 'graph_type': 'random_geometric_graph',\n",
      " 'num_graphs': 1000,\n",
      " 'num_nodes': 50,\n",
      " 'prob': 0.5,\n",
      " 'use_random_weights': False,\n",
      " 'weight_fn': <built-in method random of numpy.random.mtrand.RandomState object at 0x7fb9bc1ce050>,\n",
      " 'write_edges': False}\n",
      "CPU times: user 25.8 s, sys: 356 ms, total: 26.1 s\n",
      "Wall time: 26.1 s\n"
     ]
    }
   ],
   "source": [
    "%%time\n",
    "_ = graphgen.generate_game_data(1000, 50, save=True, fname=\"MST_50_test.pickle\")"
   ]
  },
  {
   "cell_type": "code",
   "execution_count": 9,
   "metadata": {},
   "outputs": [
    {
     "name": "stdout",
     "output_type": "stream",
     "text": [
      "Number of processors:  8\n"
     ]
    }
   ],
   "source": [
    "import multiprocessing as mp\n",
    "print(\"Number of processors: \", mp.cpu_count())"
   ]
  },
  {
   "cell_type": "code",
   "execution_count": 17,
   "metadata": {},
   "outputs": [],
   "source": [
    "import pickle\n",
    "with open('MST_50_train.pickle', 'rb') as handle:\n",
    "    b = pickle.load(handle)"
   ]
  },
  {
   "cell_type": "code",
   "execution_count": 8,
   "metadata": {},
   "outputs": [
    {
     "name": "stdout",
     "output_type": "stream",
     "text": [
      "True\n"
     ]
    }
   ],
   "source": [
    "import pickle\n",
    "\n",
    "a = [{'hello': 'world'}, {'hello': 'the_world'}]\n",
    "\n",
    "with open('filename.pickle', 'wb') as handle:\n",
    "    pickle.dump(a, handle, protocol=pickle.HIGHEST_PROTOCOL)\n",
    "\n",
    "with open('filename.pickle', 'rb') as handle:\n",
    "    b = pickle.load(handle)\n",
    "\n",
    "print(a == b)"
   ]
  },
  {
   "cell_type": "code",
   "execution_count": 5,
   "metadata": {},
   "outputs": [
    {
     "name": "stdout",
     "output_type": "stream",
     "text": [
      "{'hello': 'world'}\n"
     ]
    }
   ],
   "source": [
    "print(b)"
   ]
  },
  {
   "cell_type": "code",
   "execution_count": 2,
   "metadata": {},
   "outputs": [],
   "source": [
    "import numpy as np\n",
    "import networkx as nx\n",
    "from matplotlib import pyplot as plt\n",
    "\n",
    "import generate_graphs as graphgen\n",
    "\n",
    "#from utils import load_graph_list, draw_graph_list\n",
    "#from create_graphs import create\n",
    "#from args import Args\n",
    "#arguments = Args()\n",
    "#print(arguments.max_num_node)\n",
    "#print(arguments.graph_type)\n",
    "#graphs = create(arguments)\n",
    "#print(len(graphs))\n",
    "\n"
   ]
  },
  {
   "cell_type": "code",
   "execution_count": 48,
   "metadata": {
    "scrolled": true
   },
   "outputs": [
    {
     "ename": "TypeError",
     "evalue": "__init__() missing 1 required positional argument: 'args'",
     "output_type": "error",
     "traceback": [
      "\u001b[0;31m---------------------------------------------------------------------------\u001b[0m",
      "\u001b[0;31mTypeError\u001b[0m                                 Traceback (most recent call last)",
      "\u001b[0;32m<ipython-input-48-fb7746c4e536>\u001b[0m in \u001b[0;36m<module>\u001b[0;34m()\u001b[0m\n\u001b[1;32m      1\u001b[0m \u001b[0;31m# Plot a bunch of MST's\u001b[0m\u001b[0;34m\u001b[0m\u001b[0;34m\u001b[0m\u001b[0;34m\u001b[0m\u001b[0m\n\u001b[0;32m----> 2\u001b[0;31m \u001b[0margs\u001b[0m \u001b[0;34m=\u001b[0m \u001b[0mArgs\u001b[0m\u001b[0;34m(\u001b[0m\u001b[0;34m)\u001b[0m\u001b[0;34m\u001b[0m\u001b[0;34m\u001b[0m\u001b[0m\n\u001b[0m\u001b[1;32m      3\u001b[0m \u001b[0mgraphs\u001b[0m\u001b[0;34m,\u001b[0m \u001b[0mmsts\u001b[0m\u001b[0;34m,\u001b[0m \u001b[0mposes\u001b[0m \u001b[0;34m=\u001b[0m \u001b[0mcreate\u001b[0m\u001b[0;34m(\u001b[0m\u001b[0margs\u001b[0m\u001b[0;34m)\u001b[0m\u001b[0;34m\u001b[0m\u001b[0;34m\u001b[0m\u001b[0m\n\u001b[1;32m      4\u001b[0m \u001b[0mplot\u001b[0m\u001b[0;34m(\u001b[0m\u001b[0mgraphs\u001b[0m\u001b[0;34m,\u001b[0m\u001b[0mmsts\u001b[0m\u001b[0;34m,\u001b[0m\u001b[0mposes\u001b[0m\u001b[0;34m)\u001b[0m\u001b[0;34m\u001b[0m\u001b[0;34m\u001b[0m\u001b[0m\n",
      "\u001b[0;31mTypeError\u001b[0m: __init__() missing 1 required positional argument: 'args'"
     ]
    }
   ],
   "source": [
    "# Plot a bunch of MST's\n",
    "args = Args()\n",
    "graphs, msts, poses = create(args)\n",
    "plot(graphs,msts,poses)"
   ]
  },
  {
   "cell_type": "code",
   "execution_count": 44,
   "metadata": {},
   "outputs": [
    {
     "ename": "NameError",
     "evalue": "name 'graphgen' is not defined",
     "output_type": "error",
     "traceback": [
      "\u001b[0;31m---------------------------------------------------------------------------\u001b[0m",
      "\u001b[0;31mNameError\u001b[0m                                 Traceback (most recent call last)",
      "\u001b[0;32m<ipython-input-44-21504168e06b>\u001b[0m in \u001b[0;36m<module>\u001b[0;34m()\u001b[0m\n\u001b[0;32m----> 1\u001b[0;31m \u001b[0mgraphgen\u001b[0m\u001b[0;34m.\u001b[0m\u001b[0mmain\u001b[0m\u001b[0;34m(\u001b[0m\u001b[0;34m[\u001b[0m\u001b[0;34m'--foo'\u001b[0m\u001b[0;34m,\u001b[0m\u001b[0;34m]\u001b[0m\u001b[0;34m)\u001b[0m\u001b[0;34m\u001b[0m\u001b[0;34m\u001b[0m\u001b[0m\n\u001b[0m",
      "\u001b[0;31mNameError\u001b[0m: name 'graphgen' is not defined"
     ]
    }
   ],
   "source": [
    "graphgen.main(['--foo',])\n"
   ]
  },
  {
   "cell_type": "code",
   "execution_count": 45,
   "metadata": {},
   "outputs": [
    {
     "ename": "NameError",
     "evalue": "name 'graphs' is not defined",
     "output_type": "error",
     "traceback": [
      "\u001b[0;31m---------------------------------------------------------------------------\u001b[0m",
      "\u001b[0;31mNameError\u001b[0m                                 Traceback (most recent call last)",
      "\u001b[0;32m<ipython-input-45-5de8eed4040e>\u001b[0m in \u001b[0;36m<module>\u001b[0;34m()\u001b[0m\n\u001b[1;32m      1\u001b[0m \u001b[0;31m# One graph/mst/pos\u001b[0m\u001b[0;34m\u001b[0m\u001b[0;34m\u001b[0m\u001b[0;34m\u001b[0m\u001b[0m\n\u001b[1;32m      2\u001b[0m \u001b[0mi\u001b[0m \u001b[0;34m=\u001b[0m \u001b[0;36m0\u001b[0m\u001b[0;34m\u001b[0m\u001b[0;34m\u001b[0m\u001b[0m\n\u001b[0;32m----> 3\u001b[0;31m \u001b[0mG\u001b[0m \u001b[0;34m=\u001b[0m \u001b[0mgraphs\u001b[0m\u001b[0;34m[\u001b[0m\u001b[0mi\u001b[0m\u001b[0;34m]\u001b[0m\u001b[0;34m\u001b[0m\u001b[0;34m\u001b[0m\u001b[0m\n\u001b[0m\u001b[1;32m      4\u001b[0m \u001b[0mT\u001b[0m \u001b[0;34m=\u001b[0m \u001b[0mmsts\u001b[0m\u001b[0;34m[\u001b[0m\u001b[0mi\u001b[0m\u001b[0;34m]\u001b[0m\u001b[0;34m\u001b[0m\u001b[0;34m\u001b[0m\u001b[0m\n\u001b[1;32m      5\u001b[0m \u001b[0mpos\u001b[0m \u001b[0;34m=\u001b[0m \u001b[0mposes\u001b[0m\u001b[0;34m[\u001b[0m\u001b[0mi\u001b[0m\u001b[0;34m]\u001b[0m\u001b[0;34m\u001b[0m\u001b[0;34m\u001b[0m\u001b[0m\n",
      "\u001b[0;31mNameError\u001b[0m: name 'graphs' is not defined"
     ]
    }
   ],
   "source": [
    "# One graph/mst/pos\n",
    "i = 0\n",
    "G = graphs[i]\n",
    "T = msts[i]\n",
    "pos = poses[i]"
   ]
  },
  {
   "cell_type": "code",
   "execution_count": 5,
   "metadata": {},
   "outputs": [
    {
     "name": "stdout",
     "output_type": "stream",
     "text": [
      "{0: array([0.19051317, 0.5951444 ]), 1: array([0.31511207, 0.5172984 ]), 2: array([0.06384488, 0.74395896]), 3: array([0.02068748, 0.12615041]), 4: array([0.83898996, 0.950431  ]), 5: array([0.37670214, 0.94183009]), 6: array([0.9694689 , 0.97323483]), 7: array([0.83128899, 0.79576447]), 8: array([0.10095792, 0.89714067]), 9: array([0.0019675 , 0.40422761])}\n",
      "\n",
      "[(4, 6), (4, 7), (4, 5), (0, 1), (0, 2), (0, 9), (2, 8), (8, 5), (9, 3)]\n"
     ]
    }
   ],
   "source": [
    "print(pos)\n",
    "print()\n",
    "print(T.edges())"
   ]
  },
  {
   "cell_type": "code",
   "execution_count": 6,
   "metadata": {},
   "outputs": [
    {
     "data": {
      "text/plain": [
       "list"
      ]
     },
     "execution_count": 6,
     "metadata": {},
     "output_type": "execute_result"
    }
   ],
   "source": [
    "keys = sorted(pos.keys())\n",
    "array_of_points = list(np.array([pos[key] for key in keys]).flatten())\n",
    "output = T.edges()\n",
    "type(output)"
   ]
  },
  {
   "cell_type": "code",
   "execution_count": null,
   "metadata": {},
   "outputs": [],
   "source": []
  },
  {
   "cell_type": "code",
   "execution_count": 36,
   "metadata": {},
   "outputs": [],
   "source": [
    "import argparse\n",
    "parser = argparse.ArgumentParser()\n",
    "parser.add_argument(\"--graph_type\", type=str, default='random_geometric_graph')\n",
    "parser.add_argument(\"--num_graphs\", type=int, default=10000)\n",
    "parser.add_argument(\"--num_nodes\", type=int, default=20)\n",
    "parser.add_argument(\"--use_random_weights\",'-w',type=bool, default=False)\n",
    "parser.add_argument(\"--get_spanning_trees\",type=bool, default=True)\n",
    "parser.add_argument(\"--write_edges\", type=bool, default=True)\n",
    "parser.add_argument(\"--filename\", type=str, default=None)\n",
    "opts = parser.parse_args(['--graph_type','me','--num_graphs','10','--num_nodes','100'])\n",
    "#args = Args(opts)\n",
    "#graphs, msts, poses = create(args) # creates graphs and writes to file"
   ]
  },
  {
   "cell_type": "code",
   "execution_count": 68,
   "metadata": {},
   "outputs": [],
   "source": [
    "for G in graphs:\n",
    "    assert len(G.edges) == (5*5 - 5) / 2 # fully-connected graphs"
   ]
  },
  {
   "cell_type": "code",
   "execution_count": 60,
   "metadata": {},
   "outputs": [
    {
     "data": {
      "text/plain": [
       "{0: array([0.9257465, 0.9116246], dtype=float32),\n",
       " 1: array([0.831722 , 0.9220605], dtype=float32),\n",
       " 2: array([0.4760762 , 0.08720452], dtype=float32),\n",
       " 3: array([0.05980476, 0.9751296 ], dtype=float32),\n",
       " 4: array([0.84986234, 0.31601205], dtype=float32)}"
      ]
     },
     "execution_count": 60,
     "metadata": {},
     "output_type": "execute_result"
    }
   ],
   "source": [
    "poses[0]"
   ]
  },
  {
   "cell_type": "code",
   "execution_count": 182,
   "metadata": {},
   "outputs": [
    {
     "name": "stdout",
     "output_type": "stream",
     "text": [
      "{'filename': './data/mst5_10_random_geometric_graph.txt',\n",
      " 'get_spanning_trees': True,\n",
      " 'graph_type': 'random_geometric_graph',\n",
      " 'num_graphs': 10,\n",
      " 'num_nodes': 5,\n",
      " 'prob': 0.5,\n",
      " 'use_random_weights': False,\n",
      " 'weight_fn': <built-in method random of numpy.random.mtrand.RandomState object at 0x7f01451f7050>,\n",
      " 'write_edges': True}\n",
      "Completed generation of 10 samples of MST5.\n",
      "Total time: 0.0h\n",
      "Average time: 0.0h\n"
     ]
    }
   ],
   "source": [
    "num_graphs = 10\n",
    "num_nodes = 5\n",
    "args_list = ['--num_graphs',str(num_graphs),'--num_nodes',str(num_nodes)]\n",
    "args = graphgen.get_args(args_list)\n",
    "graphs, msts, _ = graphgen.create(args)\n",
    "#graphgen.plot(graphs,msts,poses)"
   ]
  },
  {
   "cell_type": "code",
   "execution_count": 183,
   "metadata": {},
   "outputs": [],
   "source": [
    "def listToMatrixCoords(edge, num_nodes):\n",
    "    return (edge // num_nodes, edge % num_nodes)\n",
    "def matrixToListCoords(u,v,num_nodes):\n",
    "    return (u*num_nodes + v, v*num_nodes + u)\n"
   ]
  },
  {
   "cell_type": "code",
   "execution_count": 3,
   "metadata": {},
   "outputs": [
    {
     "name": "stdout",
     "output_type": "stream",
     "text": [
      "{'filename': './data/mst5_10_random_geometric_graph.txt',\n",
      " 'get_spanning_trees': True,\n",
      " 'graph_type': 'random_geometric_graph',\n",
      " 'num_graphs': 10,\n",
      " 'num_nodes': 5,\n",
      " 'prob': 0.5,\n",
      " 'use_random_weights': False,\n",
      " 'weight_fn': <built-in method random of numpy.random.mtrand.RandomState object at 0x7fb20d495050>,\n",
      " 'write_edges': True}\n",
      "Completed generation of 10 samples of MST5.\n",
      "Total time: 0.0h\n",
      "Average time: 0.0h\n"
     ]
    },
    {
     "data": {
      "text/plain": [
       "{'inputs': ['inf,0.9573,0.1683,0.784,0.7988,0.9573,inf,0.9436,0.3927,0.2508,0.1683,0.9436,inf,0.8401,0.7507,0.784,0.3927,0.8401,inf,0.4923,0.7988,0.2508,0.7507,0.4923,inf',\n",
       "  'inf,0.215,0.4086,0.1728,0.6307,0.215,inf,0.3598,0.1037,0.553,0.4086,0.3598,inf,0.4437,0.2229,0.1728,0.1037,0.4437,inf,0.6476,0.6307,0.553,0.2229,0.6476,inf',\n",
       "  'inf,0.6294,0.6825,0.4812,0.9402,0.6294,inf,0.2138,0.1581,0.6887,0.6825,0.2138,inf,0.3115,0.4757,0.4812,0.1581,0.3115,inf,0.7543,0.9402,0.6887,0.4757,0.7543,inf',\n",
       "  'inf,0.6413,0.4948,0.9204,0.3877,0.6413,inf,0.78,0.6638,0.2753,0.4948,0.78,inf,0.6241,0.5341,0.9204,0.6638,0.6241,inf,0.6361,0.3877,0.2753,0.5341,0.6361,inf',\n",
       "  'inf,0.2399,0.4325,0.2904,0.2175,0.2399,inf,0.6631,0.5145,0.4254,0.4325,0.6631,inf,0.1511,0.3861,0.2904,0.5145,0.1511,inf,0.3019,0.2175,0.4254,0.3861,0.3019,inf',\n",
       "  'inf,0.7558,0.4148,0.7629,0.1749,0.7558,inf,0.399,0.7495,0.9053,0.4148,0.399,inf,0.5041,0.5864,0.7629,0.7495,0.5041,inf,0.9247,0.1749,0.9053,0.5864,0.9247,inf',\n",
       "  'inf,0.3031,0.249,0.196,0.7634,0.3031,inf,0.4632,0.3073,1.0256,0.249,0.4632,inf,0.4444,0.5644,0.196,0.3073,0.4444,inf,0.9273,0.7634,1.0256,0.5644,0.9273,inf',\n",
       "  'inf,0.4958,0.1924,0.8526,0.5811,0.4958,inf,0.5954,0.3644,0.0888,0.1924,0.5954,inf,0.9596,0.6699,0.8526,0.3644,0.9596,inf,0.2941,0.5811,0.0888,0.6699,0.2941,inf',\n",
       "  'inf,0.4953,0.7496,0.25,0.6527,0.4953,inf,0.6944,0.388,0.3509,0.7496,0.6944,inf,0.8836,0.3979,0.25,0.388,0.8836,inf,0.6683,0.6527,0.3509,0.3979,0.6683,inf',\n",
       "  'inf,0.289,0.4305,0.1107,0.7404,0.289,inf,0.287,0.3153,0.7319,0.4305,0.287,inf,0.3722,0.4636,0.1107,0.3153,0.3722,inf,0.6349,0.7404,0.7319,0.4636,0.6349,inf'],\n",
       " 'solutions': [(3, 15, 0.11072405144759848),\n",
       "  (1, 5, 0.2890025506328945),\n",
       "  (7, 11, 0.28699348639307987),\n",
       "  (14, 22, 0.4636225822211569),\n",
       "  [...]],\n",
       " 'rewards': [1.5625609730573808,\n",
       "  0.8592713682301191,\n",
       "  1.3288911890015604,\n",
       "  1.7819039471774338,\n",
       "  0.8988396768757522,\n",
       "  1.4927529032918005,\n",
       "  1.3125696131277986,\n",
       "  1.0711719241197901,\n",
       "  1.3868642994281941,\n",
       "  1.1503426706947297],\n",
       " 'num_nodes': 5,\n",
       " 'num_graphs': 10}"
      ]
     },
     "execution_count": 3,
     "metadata": {},
     "output_type": "execute_result"
    }
   ],
   "source": [
    "def get_generated_weights(graphs, num_nodes):\n",
    "    graph_weights = []\n",
    "    for G in graphs:\n",
    "        edge_weights = [np.inf]*(num_nodes * num_nodes)\n",
    "        for (u,v,weight) in G.edges.data():\n",
    "            weight = np.round(weight['weight'], 4)\n",
    "            edge_weights[u * num_nodes + v] = weight\n",
    "            edge_weights[v * num_nodes + u] = weight\n",
    "        generated_weights = \",\".join(str(e) for e in edge_weights)\n",
    "        graph_weights.append(generated_weights)\n",
    "    return graph_weights\n",
    "\n",
    "def get_solutions(graphs, num_nodes):\n",
    "    MST_rewards = []\n",
    "    MSTS_edges = []\n",
    "    for T in graphs:\n",
    "        MST_sum = 0\n",
    "        MST_edges = []\n",
    "        for (u,v,weight) in T.edges.data():\n",
    "            weight = weight['weight']\n",
    "            edge_1, edge_2 = u * num_nodes + v, v * num_nodes + u\n",
    "            MST_sum += weight\n",
    "            MST_edges.append((edge_1, edge_2, weight))\n",
    "        MST_rewards.append(MST_sum)\n",
    "        MST_edges.append(MST_edges)\n",
    "    return MST_rewards, MST_edges\n",
    "\n",
    "def generate_game_data(num_graphs, num_nodes):\n",
    "    args_list = ['--num_graphs',str(num_graphs),'--num_nodes',str(num_nodes)]\n",
    "    args = graphgen.get_args(args_list)\n",
    "    graphs, msts, _ = graphgen.create(args)\n",
    "    \n",
    "    graph_inputs = get_generated_weights(graphs, num_nodes)\n",
    "    graph_rewards, graph_edges = get_solutions(msts, num_nodes)\n",
    "    \n",
    "    \n",
    "    return {'inputs': graph_inputs,\n",
    "     'solutions': graph_edges,\n",
    "     'rewards': graph_rewards,\n",
    "     'num_nodes': num_nodes,\n",
    "     'num_graphs': num_graphs}\n",
    "\n",
    "generate_game_data(10,5)"
   ]
  },
  {
   "cell_type": "code",
   "execution_count": 169,
   "metadata": {},
   "outputs": [
    {
     "data": {
      "text/plain": [
       "[(1, 5, 0.5080306572678186),\n",
       " (4, 20, 0.27510531304953856),\n",
       " (3, 15, 0.8915089770755332),\n",
       " (2, 10, 0.8068869987941426),\n",
       " (7, 11, 0.6049884099247729),\n",
       " (8, 16, 0.9888985808095211),\n",
       " (9, 21, 0.27773077995660195),\n",
       " (14, 22, 0.5700269336637231),\n",
       " (13, 17, 0.5413002900869921),\n",
       " (19, 23, 0.7996894644900261)]"
      ]
     },
     "execution_count": 169,
     "metadata": {},
     "output_type": "execute_result"
    }
   ],
   "source": [
    "def listToMatrixCoords(edge, num_nodes):\n",
    "    one = (edge // num_nodes, edge % num_nodes)\n",
    "    two = one[::-1]\n",
    "    return one, two\n",
    "def matrixToListCoords(u,v,num_nodes):\n",
    "    return u*num_nodes + v, v*num_nodes + u\n",
    "\n",
    "weight_f = lambda x: x['weight']\n",
    "unpack_edges = lambda G: [(*matrixToListCoords(u,v,num_nodes), weight_f(w)) for u,v,w in G.edges.data()]\n",
    "unpack_edges(G)"
   ]
  },
  {
   "cell_type": "code",
   "execution_count": 156,
   "metadata": {},
   "outputs": [
    {
     "name": "stdout",
     "output_type": "stream",
     "text": [
      "0.7992827 0.67609966 0.7773508 0.417244 0.47557488 0.67510223 0.24236177 0.8839378 0.28909767 0.69704455\n",
      " output \n",
      "(0, 1) (0, 2) (2, 4) (3, 4)\n",
      "\n",
      "\n"
     ]
    }
   ],
   "source": [
    "for G, T, pos in zip(graphs, msts, poses):\n",
    "    keys = sorted(pos.keys())\n",
    "    points = list(np.array([pos[key] for key in keys]).flatten())\n",
    "    solution = T.edges()\n",
    "    print(\" \".join( str(x) for x in points))\n",
    "    print( str(\" \") + str('output') + str(\" \") )\n",
    "    print( str(\" \").join( str(edge) for edge in solution) )\n",
    "    print( \"\\n\" )"
   ]
  },
  {
   "cell_type": "code",
   "execution_count": 4,
   "metadata": {},
   "outputs": [
    {
     "ename": "ModuleNotFoundError",
     "evalue": "No module named 'pyspiel'",
     "output_type": "error",
     "traceback": [
      "\u001b[0;31m---------------------------------------------------------------------------\u001b[0m",
      "\u001b[0;31mModuleNotFoundError\u001b[0m                       Traceback (most recent call last)",
      "\u001b[0;32m<ipython-input-4-d0ace1a597bc>\u001b[0m in \u001b[0;36m<module>\u001b[0;34m()\u001b[0m\n\u001b[0;32m----> 1\u001b[0;31m \u001b[0;32mfrom\u001b[0m \u001b[0mmst_setup\u001b[0m \u001b[0;32mimport\u001b[0m \u001b[0mspiel_params\u001b[0m \u001b[0;32mas\u001b[0m \u001b[0msp\u001b[0m\u001b[0;34m\u001b[0m\u001b[0;34m\u001b[0m\u001b[0m\n\u001b[0m\u001b[1;32m      2\u001b[0m \u001b[0msp\u001b[0m\u001b[0;34m(\u001b[0m\u001b[0;36m10\u001b[0m\u001b[0;34m,\u001b[0m\u001b[0;36m5\u001b[0m\u001b[0;34m)\u001b[0m\u001b[0;34m\u001b[0m\u001b[0;34m\u001b[0m\u001b[0m\n",
      "\u001b[0;32m/home/jupyter/ORIE-GNN-bjk224/mst-game/mst_setup.py\u001b[0m in \u001b[0;36m<module>\u001b[0;34m()\u001b[0m\n\u001b[1;32m     25\u001b[0m \u001b[0;32mfrom\u001b[0m \u001b[0mscipy\u001b[0m\u001b[0;34m.\u001b[0m\u001b[0mspatial\u001b[0m \u001b[0;32mimport\u001b[0m \u001b[0mdistance_matrix\u001b[0m\u001b[0;34m\u001b[0m\u001b[0;34m\u001b[0m\u001b[0m\n\u001b[1;32m     26\u001b[0m \u001b[0;32mimport\u001b[0m \u001b[0mnetworkx\u001b[0m \u001b[0;32mas\u001b[0m \u001b[0mnx\u001b[0m\u001b[0;34m\u001b[0m\u001b[0;34m\u001b[0m\u001b[0m\n\u001b[0;32m---> 27\u001b[0;31m \u001b[0;32mimport\u001b[0m \u001b[0mpyspiel\u001b[0m\u001b[0;34m\u001b[0m\u001b[0;34m\u001b[0m\u001b[0m\n\u001b[0m\u001b[1;32m     28\u001b[0m \u001b[0;32mimport\u001b[0m \u001b[0mgenerate_graphs\u001b[0m \u001b[0;32mas\u001b[0m \u001b[0mgraphgen\u001b[0m\u001b[0;34m\u001b[0m\u001b[0;34m\u001b[0m\u001b[0m\n\u001b[1;32m     29\u001b[0m \u001b[0;34m\u001b[0m\u001b[0m\n",
      "\u001b[0;31mModuleNotFoundError\u001b[0m: No module named 'pyspiel'"
     ]
    }
   ],
   "source": [
    "from mst_setup import spiel_params as sp\n",
    "sp(10,5)"
   ]
  },
  {
   "cell_type": "code",
   "execution_count": 13,
   "metadata": {},
   "outputs": [
    {
     "data": {
      "text/plain": [
       "1198.2929094215963"
      ]
     },
     "execution_count": 13,
     "metadata": {},
     "output_type": "execute_result"
    }
   ],
   "source": [
    "n = 20\n",
    "m = n * n\n",
    "m * np.log(n)"
   ]
  },
  {
   "cell_type": "code",
   "execution_count": 36,
   "metadata": {},
   "outputs": [],
   "source": [
    "import pandas as pd\n",
    "import numpy as np\n",
    "from matplotlib import pyplot as plt"
   ]
  },
  {
   "cell_type": "code",
   "execution_count": 37,
   "metadata": {},
   "outputs": [],
   "source": [
    "actual_rewards = np.random.rand(10)\n",
    "predicted_rewards = np.random.rand(10)\n",
    "df = pd.DataFrame([], columns=[\"Actual_Rewards\", \"Predicted_Rewards\"])\n",
    "df.Actual_Rewards = actual_rewards\n",
    "df.Predicted_Rewards = predicted_rewards\n",
    "game_version = \"easy\"\n",
    "num_nodes = 10\n",
    "epoch = 100\n",
    "save_loc = \"./dqn_results/\"+str(game_version)+\"/\"+str(num_nodes)+\"nodes/\"+ \"epoch\" + str(epoch) +\".csv\"\n",
    "df.to_csv(save_loc, index=False)"
   ]
  },
  {
   "cell_type": "code",
   "execution_count": 38,
   "metadata": {},
   "outputs": [
    {
     "data": {
      "text/plain": [
       "[<matplotlib.lines.Line2D at 0x7f8572d2b090>]"
      ]
     },
     "execution_count": 38,
     "metadata": {},
     "output_type": "execute_result"
    },
    {
     "data": {
      "image/png": "[encoded data removed]",
      "text/plain": [
       "<Figure size 432x288 with 1 Axes>"
      ]
     },
     "metadata": {
      "needs_background": "light"
     },
     "output_type": "display_data"
    }
   ],
   "source": [
    "save_loc = \"./dqn_results/\"+str('easy')+\"/\"+str(10)+\"nodes/\"+ \"epoch\" + str(99999) +\".csv\"\n",
    "df = pd.read_csv(save_loc)\n",
    "resids = np.abs(df.Actual_Rewards + df.Predicted_Rewards)\n",
    "plt.plot(resids)"
   ]
  },
  {
   "cell_type": "code",
   "execution_count": 1,
   "metadata": {},
   "outputs": [
    {
     "name": "stdout",
     "output_type": "stream",
     "text": [
      "(easy,4): [0.4442023200317541, 0.44276637947435454, 0.4423856125235021, 0.4442023200317541, 0.43947026515797927, 0.4390880859046228, 0.44276637947435454, 0.4390880859046228, 0.4442023200317541, 0.44276637947435454] \n",
      "\n",
      "(easy,5): [0.7495924134931586, 0.7482059096070942, 0.7477415943758112, 0.7511438261828073, 0.7463405719901114, 0.752515829083414, 0.7524060328232962, 0.7501628359266101, 0.7486569972525539, 0.7477415943758112] \n",
      "\n",
      "(easy,10): [2.587053154600742, 2.591155735153232, 2.600355224189306, 2.603065323894384, 2.587299394127754, 2.5973510136232543, 2.5974485941108623, 2.598125384373167, 2.6040084148449765, 2.5860615239735765] \n",
      "\n",
      "\n",
      "(medium,4): [0.4390880859046228, 0.4390880859046228, 0.4390880859046228, 0.4390880859046228, 0.4390880859046228, 0.4390880859046228, 0.4390880859046228, 0.4390880859046228, 0.4390880859046228, 0.4390880859046228] \n",
      "\n",
      "(medium,5): [0.7476074106453813, 0.7476074106453813, 0.7476074106453813, 0.7476074106453813, 0.7476074106453813, 0.7476074106453813, 0.7476074106453813, 0.7476074106453813, 0.7476074106453813, 0.7476074106453813] \n",
      "\n",
      "(medium,10): [1073741824.5214171, 1073741824.5214171, 1073741824.5214171, 1073741824.5214171, 1073741824.5214171, 1073741824.5214171, 1073741824.5214171, 1073741824.5214171, 1073741824.5214171, 1073741824.5214171] \n",
      "\n",
      "\n"
     ]
    }
   ],
   "source": [
    "import pandas as pd\n",
    "import numpy as np\n",
    "from matplotlib import pyplot as plt\n",
    "def generate_plots_from_csv():\n",
    "    game_versions = ['easy', 'medium']\n",
    "    epochs = [n-1 for n in range(int(1e5),int(1e6+1),int(1e5))]\n",
    "    num_nodes = [4,5,10]\n",
    "    for game_version in game_versions:\n",
    "        for n_nodes in num_nodes:\n",
    "            residuals = []\n",
    "            for epoch in epochs:  \n",
    "                save_loc = \"./dqn_results/\"+str(game_version)+\"/\"+str(n_nodes)+\"nodes/\"+ \"epoch\" + str(epoch) +\".csv\"\n",
    "                df = pd.read_csv(save_loc)\n",
    "                resids = np.abs(df.Actual_Rewards + df.Predicted_Rewards).mean()\n",
    "                residuals.append(resids)\n",
    "            print(\"(%s,%s):\"%(game_version, n_nodes), residuals,\"\\n\")\n",
    "        print()\n",
    "generate_plots_from_csv()"
   ]
  },
  {
   "cell_type": "code",
   "execution_count": 40,
   "metadata": {},
   "outputs": [
    {
     "data": {
      "text/plain": [
       "0"
      ]
     },
     "execution_count": 40,
     "metadata": {},
     "output_type": "execute_result"
    }
   ],
   "source": [
    "save_loc = \"./dqn_results/\"+str('medium')+\"/\"+str(10)+\"nodes/\"+ \"epoch\" + str(999999) +\".csv\"\n",
    "df = pd.read_csv(save_loc)\n",
    "(np.abs(df.Predicted_Rewards) < 1000000).sum()"
   ]
  },
  {
   "cell_type": "code",
   "execution_count": null,
   "metadata": {},
   "outputs": [],
   "source": [
    "np.abs(pd.read_csv(\"dqn_results/easy/4nodes/epoch99999.csv\"))"
   ]
  },
  {
   "cell_type": "code",
   "execution_count": 2,
   "metadata": {},
   "outputs": [],
   "source": [
    "import numpy as np\n",
    "from scipy.special import comb\n",
    "\n",
    "num_spanning_trees = lambda n: n**(n-2)\n",
    "num_graphs_complete = lambda n: comb(n*(n-1)/2, n)\n",
    "\n",
    "n = np.array([4.,5.,10.,20.,50.])\n",
    "#comb(n, k, exact=False)"
   ]
  },
  {
   "cell_type": "code",
   "execution_count": 19,
   "metadata": {},
   "outputs": [
    {
     "data": {
      "text/plain": [
       "100000000"
      ]
     },
     "execution_count": 19,
     "metadata": {},
     "output_type": "execute_result"
    }
   ],
   "source": [
    "num_spanning_trees(10)"
   ]
  },
  {
   "cell_type": "code",
   "execution_count": 28,
   "metadata": {},
   "outputs": [
    {
     "data": {
      "text/plain": [
       "array([1.06666667e+02, 4.96031746e+01, 3.13461220e+00, 4.78141786e-02,\n",
       "       1.16706737e-06])"
      ]
     },
     "execution_count": 28,
     "metadata": {},
     "output_type": "execute_result"
    }
   ],
   "source": [
    "(num_spanning_trees(n) / num_graphs_complete(n))*100"
   ]
  },
  {
   "cell_type": "code",
   "execution_count": 22,
   "metadata": {},
   "outputs": [
    {
     "data": {
      "text/plain": [
       "16"
      ]
     },
     "execution_count": 22,
     "metadata": {},
     "output_type": "execute_result"
    }
   ],
   "source": [
    "num_spanning_trees(4)"
   ]
  },
  {
   "cell_type": "code",
   "execution_count": 33,
   "metadata": {},
   "outputs": [
    {
     "data": {
      "text/plain": [
       "array([1.06666667e+00, 4.96031746e-01, 3.13461220e-02, 4.78141786e-04,\n",
       "       1.16706737e-08])"
      ]
     },
     "execution_count": 33,
     "metadata": {},
     "output_type": "execute_result"
    }
   ],
   "source": [
    "n**(n-2) / num_graphs_complete(n)"
   ]
  },
  {
   "cell_type": "code",
   "execution_count": null,
   "metadata": {},
   "outputs": [],
   "source": []
  }
 ],
 "metadata": {
  "kernelspec": {
   "display_name": "Python 3",
   "language": "python",
   "name": "python3"
  },
  "language_info": {
   "codemirror_mode": {
    "name": "ipython",
    "version": 3
   },
   "file_extension": ".py",
   "mimetype": "text/x-python",
   "name": "python",
   "nbconvert_exporter": "python",
   "pygments_lexer": "ipython3",
   "version": "3.7.4"
  }
 },
 "nbformat": 4,
 "nbformat_minor": 4
}
